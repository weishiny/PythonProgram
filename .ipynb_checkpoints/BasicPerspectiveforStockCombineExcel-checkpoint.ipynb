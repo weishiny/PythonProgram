{
 "cells": [
  {
   "cell_type": "code",
   "execution_count": 13,
   "metadata": {},
   "outputs": [
    {
     "ename": "com_error",
     "evalue": "(-2147352567, 'Exception occurred.', (0, 'Microsoft Excel', 'SaveAs method of Workbook class failed', 'xlmain11.chm', 0, -2146827284), None)",
     "output_type": "error",
     "traceback": [
      "\u001b[1;31m---------------------------------------------------------------------------\u001b[0m",
      "\u001b[1;31mcom_error\u001b[0m                                 Traceback (most recent call last)",
      "\u001b[1;32m<ipython-input-13-9637f323faff>\u001b[0m in \u001b[0;36m<module>\u001b[1;34m()\u001b[0m\n\u001b[0;32m     10\u001b[0m     \u001b[0mw\u001b[0m\u001b[1;33m.\u001b[0m\u001b[0mSheets\u001b[0m\u001b[1;33m(\u001b[0m\u001b[1;36m1\u001b[0m\u001b[1;33m)\u001b[0m\u001b[1;33m.\u001b[0m\u001b[0mCopy\u001b[0m\u001b[1;33m(\u001b[0m\u001b[0mwb\u001b[0m\u001b[1;33m.\u001b[0m\u001b[0mSheets\u001b[0m\u001b[1;33m(\u001b[0m\u001b[1;36m1\u001b[0m\u001b[1;33m)\u001b[0m\u001b[1;33m)\u001b[0m\u001b[1;33m\u001b[0m\u001b[0m\n\u001b[0;32m     11\u001b[0m \u001b[1;33m\u001b[0m\u001b[0m\n\u001b[1;32m---> 12\u001b[1;33m \u001b[0mwb\u001b[0m\u001b[1;33m.\u001b[0m\u001b[0mSaveAs\u001b[0m\u001b[1;33m(\u001b[0m\u001b[0mos\u001b[0m\u001b[1;33m.\u001b[0m\u001b[0mpath\u001b[0m\u001b[1;33m.\u001b[0m\u001b[0mjoin\u001b[0m\u001b[1;33m(\u001b[0m\u001b[0mos\u001b[0m\u001b[1;33m.\u001b[0m\u001b[0mgetcwd\u001b[0m\u001b[1;33m(\u001b[0m\u001b[1;33m)\u001b[0m\u001b[1;33m,\u001b[0m \u001b[1;34m\"Styled_Basic_Perspective_Total.xlsx\"\u001b[0m\u001b[1;33m)\u001b[0m\u001b[1;33m)\u001b[0m\u001b[1;33m\u001b[0m\u001b[0m\n\u001b[0m\u001b[0;32m     13\u001b[0m \u001b[0mwb\u001b[0m\u001b[1;33m.\u001b[0m\u001b[0mSaveAs\u001b[0m\u001b[1;33m(\u001b[0m\u001b[0mos\u001b[0m\u001b[1;33m.\u001b[0m\u001b[0mpath\u001b[0m\u001b[1;33m.\u001b[0m\u001b[0mjoin\u001b[0m\u001b[1;33m(\u001b[0m\u001b[0mos\u001b[0m\u001b[1;33m.\u001b[0m\u001b[0mgetcwd\u001b[0m\u001b[1;33m(\u001b[0m\u001b[1;33m)\u001b[0m\u001b[1;33m,\u001b[0m \u001b[1;34m\"Styled_Basic_Perspective_Total.xls\"\u001b[0m\u001b[1;33m)\u001b[0m\u001b[1;33m)\u001b[0m\u001b[1;33m\u001b[0m\u001b[0m\n\u001b[0;32m     14\u001b[0m \u001b[0mexcel\u001b[0m\u001b[1;33m.\u001b[0m\u001b[0mApplication\u001b[0m\u001b[1;33m.\u001b[0m\u001b[0mQuit\u001b[0m\u001b[1;33m(\u001b[0m\u001b[1;33m)\u001b[0m\u001b[1;33m\u001b[0m\u001b[0m\n",
      "\u001b[1;32mC:\\Users\\TERREN~1\\AppData\\Local\\Temp\\gen_py\\3.5\\00020813-0000-0000-C000-000000000046x0x1x9\\_Workbook.py\u001b[0m in \u001b[0;36mSaveAs\u001b[1;34m(self, Filename, FileFormat, Password, WriteResPassword, ReadOnlyRecommended, CreateBackup, AccessMode, ConflictResolution, AddToMru, TextCodepage, TextVisualLayout, Local, WorkIdentity)\u001b[0m\n\u001b[0;32m    283\u001b[0m                         \u001b[1;33m,\u001b[0m \u001b[0mFileFormat\u001b[0m\u001b[1;33m,\u001b[0m \u001b[0mPassword\u001b[0m\u001b[1;33m,\u001b[0m \u001b[0mWriteResPassword\u001b[0m\u001b[1;33m,\u001b[0m \u001b[0mReadOnlyRecommended\u001b[0m\u001b[1;33m,\u001b[0m \u001b[0mCreateBackup\u001b[0m\u001b[1;33m\u001b[0m\u001b[0m\n\u001b[0;32m    284\u001b[0m                         \u001b[1;33m,\u001b[0m \u001b[0mAccessMode\u001b[0m\u001b[1;33m,\u001b[0m \u001b[0mConflictResolution\u001b[0m\u001b[1;33m,\u001b[0m \u001b[0mAddToMru\u001b[0m\u001b[1;33m,\u001b[0m \u001b[0mTextCodepage\u001b[0m\u001b[1;33m,\u001b[0m \u001b[0mTextVisualLayout\u001b[0m\u001b[1;33m\u001b[0m\u001b[0m\n\u001b[1;32m--> 285\u001b[1;33m \t\t\t, Local, WorkIdentity)\n\u001b[0m\u001b[0;32m    286\u001b[0m \u001b[1;33m\u001b[0m\u001b[0m\n\u001b[0;32m    287\u001b[0m         \u001b[1;32mdef\u001b[0m \u001b[0mSaveAsXMLData\u001b[0m\u001b[1;33m(\u001b[0m\u001b[0mself\u001b[0m\u001b[1;33m,\u001b[0m \u001b[0mFilename\u001b[0m\u001b[1;33m=\u001b[0m\u001b[0mdefaultNamedNotOptArg\u001b[0m\u001b[1;33m,\u001b[0m \u001b[0mMap\u001b[0m\u001b[1;33m=\u001b[0m\u001b[0mdefaultNamedNotOptArg\u001b[0m\u001b[1;33m)\u001b[0m\u001b[1;33m:\u001b[0m\u001b[1;33m\u001b[0m\u001b[0m\n",
      "\u001b[1;31mcom_error\u001b[0m: (-2147352567, 'Exception occurred.', (0, 'Microsoft Excel', 'SaveAs method of Workbook class failed', 'xlmain11.chm', 0, -2146827284), None)"
     ]
    }
   ],
   "source": [
    "#combine all excel into one excel with multiple sheets\n",
    "import win32com.client as win32\n",
    "import os\n",
    "\n",
    "excel = win32.gencache.EnsureDispatch('Excel.Application')\n",
    "wb = excel.Workbooks.Add()\n",
    "\n",
    "for f in [os.path.join(os.getcwd(), \"Styled_Basic_Perspective_EPS.xlsx\"), os.path.join(os.getcwd(), \"Styled_Basic_Perspective_NetIncome.xlsx\"), os.path.join(os.getcwd(), \"Styled_Basic_Perspective_OperationProfit.xlsx\"), os.path.join(os.getcwd(), \"Styled_Basic_Perspective_GrossProfit.xlsx\"), os.path.join(os.getcwd(), \"Styled_Basic_Perspective_Revenue.xlsx\")]: \n",
    "    w = excel.Workbooks.Open(f) \n",
    "    w.Sheets(1).Copy(wb.Sheets(1))\n",
    "\n",
    "wb.SaveAs(os.path.join(os.getcwd(), \"Styled_Basic_Perspective_Total.xlsx\"))\n",
    "wb.SaveAs(os.path.join(os.getcwd(), \"Styled_Basic_Perspective_Total.xls\"))\n",
    "excel.Application.Quit()"
   ]
  },
  {
   "cell_type": "code",
   "execution_count": 14,
   "metadata": {},
   "outputs": [],
   "source": [
    "# it the above program have the following error, please the below program to combine excels to one excel file\n",
    "# com_error: (-2147352567, 'Exception occurred.', (0, 'Microsoft Excel', 'SaveAs method of Workbook class failed', 'xlmain11.chm', 0, -2146827284), None)\n",
    "\n",
    "import pandas as pd\n",
    "\n",
    "df1 = pd.read_excel('Styled_Basic_Perspective_Revenue.xlsx')\n",
    "df2 = pd.read_excel('Styled_Basic_Perspective_GrossProfit.xlsx')\n",
    "df3 = pd.read_excel('Styled_Basic_Perspective_OperationProfit.xlsx')\n",
    "df4 = pd.read_excel('Styled_Basic_Perspective_NetIncome.xlsx')\n",
    "df5 = pd.read_excel('Styled_Basic_Perspective_EPS.xlsx')\n",
    "\n",
    "# pandas styling\n",
    "def color_white(val):\n",
    "    \"\"\"\n",
    "    Takes a scalar and returns a string with\n",
    "    the css property `'color: red'` for negative\n",
    "    strings, black otherwise.\n",
    "    \"\"\"\n",
    "    color = 'white'\n",
    "    return 'color: %s' % color\n",
    "\n",
    "def background_color(val):    \n",
    "    if float(val) < 0:\n",
    "        backgroundcolor = '#ff0000'\n",
    "    elif float(val) < 10:\n",
    "        backgroundcolor = '#f47721'\n",
    "    elif float(val) < 20:\n",
    "        backgroundcolor = '#ffdd00'\n",
    "    elif float(val) < 30:\n",
    "        backgroundcolor = '#5ecc62'\n",
    "    else:\n",
    "        backgroundcolor = '#00ad45'\n",
    "    return 'background-color: %s' % backgroundcolor\n",
    "\n",
    "# styled dataframe can use .to_excel('Styled_Basic_EPS.xlsx', engine='openpyxl') to export excel with style\n",
    "year = 107\n",
    "season = 1\n",
    "howmany_year_data = 3\n",
    "\n",
    "columns_name = []\n",
    "for i in range(int(howmany_year_data*4-4)):\n",
    "    columns_name.append('Growth_{0}Q{1}'.format(year, season))\n",
    "    if (season != 1):\n",
    "        season = season - 1\n",
    "    else:\n",
    "        season = 4\n",
    "        year = year - 1\n",
    "\n",
    "        \n",
    "writer = pd.ExcelWriter('Styled_Basic_Perspective_Total.xlsx')\n",
    "df1.style.applymap(color_white, subset=pd.IndexSlice[:, columns_name]).applymap(background_color, subset=pd.IndexSlice[:, columns_name]).to_excel(writer,'Revenue_Basic')\n",
    "df2.style.applymap(color_white, subset=pd.IndexSlice[:, columns_name]).applymap(background_color, subset=pd.IndexSlice[:, columns_name]).to_excel(writer,'GrossProfit_Basic')\n",
    "df3.style.applymap(color_white, subset=pd.IndexSlice[:, columns_name]).applymap(background_color, subset=pd.IndexSlice[:, columns_name]).to_excel(writer,'OperationProfit_Basic')\n",
    "df4.style.applymap(color_white, subset=pd.IndexSlice[:, columns_name]).applymap(background_color, subset=pd.IndexSlice[:, columns_name]).to_excel(writer,'NetIncome_Basic')\n",
    "df5.style.applymap(color_white, subset=pd.IndexSlice[:, columns_name]).applymap(background_color, subset=pd.IndexSlice[:, columns_name]).to_excel(writer,'EPS_Basic')\n",
    "writer.save()"
   ]
  },
  {
   "cell_type": "code",
   "execution_count": null,
   "metadata": {},
   "outputs": [],
   "source": []
  }
 ],
 "metadata": {
  "kernelspec": {
   "display_name": "Python 3",
   "language": "python",
   "name": "python3"
  },
  "language_info": {
   "codemirror_mode": {
    "name": "ipython",
    "version": 3
   },
   "file_extension": ".py",
   "mimetype": "text/x-python",
   "name": "python",
   "nbconvert_exporter": "python",
   "pygments_lexer": "ipython3",
   "version": "3.5.4"
  }
 },
 "nbformat": 4,
 "nbformat_minor": 2
}
