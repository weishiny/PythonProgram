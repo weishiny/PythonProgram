{
 "cells": [
  {
   "cell_type": "code",
   "execution_count": 4,
   "metadata": {},
   "outputs": [],
   "source": [
    "#combine all excel into one excel with multiple sheets\n",
    "import win32com.client as win32\n",
    "import os\n",
    "\n",
    "excel = win32.gencache.EnsureDispatch('Excel.Application')\n",
    "wb = excel.Workbooks.Add()\n",
    "\n",
    "for f in [os.path.join(os.getcwd(), \"Styled_Basic_Perspective_EPS.xlsx\"), os.path.join(os.getcwd(), \"Styled_Basic_Perspective_NetIncome.xlsx\"), os.path.join(os.getcwd(), \"Styled_Basic_Perspective_OperationProfit.xlsx\"), os.path.join(os.getcwd(), \"Styled_Basic_Perspective_GrossProfit.xlsx\"), os.path.join(os.getcwd(), \"Styled_Basic_Perspective_Revenue.xlsx\")]: \n",
    "    w = excel.Workbooks.Open(f) \n",
    "    w.Sheets(1).Copy(wb.Sheets(1))\n",
    "\n",
    "wb.SaveAs(os.path.join(os.getcwd(), \"Styled_Basic_Perspective_Total.xlsx\"))\n",
    "wb.SaveAs(os.path.join(os.getcwd(), \"Styled_Basic_Perspective_Total.xls\"))\n",
    "excel.Application.Quit()"
   ]
  },
  {
   "cell_type": "code",
   "execution_count": null,
   "metadata": {},
   "outputs": [],
   "source": []
  }
 ],
 "metadata": {
  "kernelspec": {
   "display_name": "Python 3",
   "language": "python",
   "name": "python3"
  },
  "language_info": {
   "codemirror_mode": {
    "name": "ipython",
    "version": 3
   },
   "file_extension": ".py",
   "mimetype": "text/x-python",
   "name": "python",
   "nbconvert_exporter": "python",
   "pygments_lexer": "ipython3",
   "version": "3.6.4"
  }
 },
 "nbformat": 4,
 "nbformat_minor": 2
}
