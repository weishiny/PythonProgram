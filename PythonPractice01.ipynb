{
 "cells": [
  {
   "cell_type": "code",
   "execution_count": 39,
   "metadata": {
    "scrolled": true
   },
   "outputs": [
    {
     "name": "stderr",
     "output_type": "stream",
     "text": [
      "c:\\users\\terrencechen\\appdata\\local\\programs\\python\\python36-32\\lib\\site-packages\\urllib3\\connectionpool.py:858: InsecureRequestWarning: Unverified HTTPS request is being made. Adding certificate verification is strongly advised. See: https://urllib3.readthedocs.io/en/latest/advanced-usage.html#ssl-warnings\n",
      "  InsecureRequestWarning)\n"
     ]
    }
   ],
   "source": [
    "import requests\n",
    "import shutil\n",
    "\n",
    "http_proxy  = \"http://proxy.tatw.micron.com:8080/\"\n",
    "https_proxy = \"http://proxy.tatw.micron.com:8080/\"\n",
    "proxyDict = { \n",
    "    \"http\":http_proxy, \n",
    "    \"https\":https_proxy              \n",
    "}\n",
    "rs = requests.session()\n",
    "res = rs.get('https://fbfh.trade.gov.tw/rich/text/common/code_98/CheckImageCode.aspx', stream=True, verify=False, proxies=proxyDict)\n",
    "f=open('check.png', 'wb')\n",
    "shutil.copyfileobj(res.raw, f)\n",
    "f.close()"
   ]
  },
  {
   "cell_type": "code",
   "execution_count": 40,
   "metadata": {
    "scrolled": true
   },
   "outputs": [
    {
     "data": {
      "image/png": "[encoded data removed]",
      "text/plain": [
       "<IPython.core.display.Image object>"
      ]
     },
     "execution_count": 40,
     "metadata": {},
     "output_type": "execute_result"
    }
   ],
   "source": [
    "import IPython.display\n",
    "IPython.display.Image('check.png')\n",
    "\n",
    "# from IPython.display import Image\n",
    "# Image('check.png')"
   ]
  },
  {
   "cell_type": "code",
   "execution_count": 41,
   "metadata": {},
   "outputs": [
    {
     "name": "stdout",
     "output_type": "stream",
     "text": [
      "<!DOCTYPE HTML>\r\n",
      "<script>alert('驗證碼輸入錯誤，請重新查詢!!');</script><!DOCTYPE HTML>\r\n",
      "\r\n",
      "<html>\r\n",
      "<head>\r\n",
      "\t<meta charset=\"utf-8\">\r\n",
      "\t<meta name=\"viewport\" content=\"width=device-width, initial-scale=1\">\r\n",
      "\t<title>廠商基本資料查詢</title>\r\n",
      "\t<link href=\"../../css/common.css\" rel=\"stylesheet\" type=\"text/css\"/>\r\n",
      "\t<script src=\"https://CNSIMEII.trade.gov.tw/webime/ime/arwin_loader.js\"></script>\r\n",
      "\t<script SRC=\"../js/Check_Merchant2.js\"></script>\r\n",
      "\t<script SRC=\"../js/validation_3.js\"></script>\r\n",
      "</head>\r\n",
      "\r\n",
      "<body>\r\n",
      "<form name=\"basic_form\" METHOD=\"post\">\r\n",
      "  \t<table class=\"table1\" style=\"border: 1px solid black\">\r\n",
      "        <tr class=\"tr1bg1\"> \r\n",
      "            <td colspan=\"2\" > \r\n",
      "              <div style=\"text-align:center;\">\r\n",
      "              <h3>廠商基本資料查詢&nbsp;&nbsp;<a href=\"javascript:void(0)\" onClick=\"window.open('../onlineHelp/QueryCompany.pdf','_new')\">\r\n",
      "              <img src=\"../images/G4.gif\" alt=\"\" style=\"border:0;\"></a>\r\n",
      "              </h3>\r\n",
      "              </div>\r\n",
      "\t\t    </td>\r\n",
      "\t\t</tr>\r\n",
      "\t\t<tr>\r\n",
      "\t\t\t<td class=\"td1bg1\">\r\n",
      "\t\t\t\t<label><input TYPE=\"radio\" VALUE=\"1\" CHECKED NAME=\"basic_select\">統一編號：</label>\r\n",
      "\t\t\t\t<input type=\"hidden\" name=\"queryType\" value=\"C\">\r\n",
      "\t\t\t</td>\r\n",
      "\t\t\t<td class=\"td2bg1\">\r\n",
      "\t\t\t\t<input SIZE=\"10\" NAME=\"uni_number\" ONFOCUS=\"basic_form.basic_select[0].checked=true\" maxlength=8>\r\n",
      "          \t</td>\r\n",
      "        </tr>\r\n",
      "\t\t<tr>\r\n",
      "\t\t\t<td class=\"td1bg1\">\r\n",
      "\t\t\t\t<label><input name=\"basic_select\" type=\"radio\" value=\"2\">廠商中文名稱：</label>\r\n",
      "\t\t\t</td>\r\n",
      "\t\t\t<td class=\"td2bg1\">\r\n",
      "\t\t\t\t<input SIZE=\"50\"  class=\"arWebIME\" id=\"chinese_name\" NAME=\"chinese_name\" ONFOCUS=\"basic_form.basic_select[1].checked=true\" maxlength=50>\r\n",
      "\t\t\t\t(請至少輸入二碼中文名稱)\r\n",
      "\t\t\t</td>\r\n",
      "\t\t</tr>\r\n",
      "\t\t<tr>\r\n",
      "\t\t\t<td class=\"td1bg1\">\r\n",
      "\t\t\t\t<label><input TYPE=\"radio\" VALUE=\"3\" NAME=\"basic_select\">廠商英文名稱： </label>\r\n",
      "\t\t\t</td>\r\n",
      "\t\t\t<td class=\"td2bg1\">\r\n",
      "\t\t\t\t<input SIZE=\"50\" NAME=\"english_name\" ONFOCUS=\"basic_form.basic_select[2].checked=true\" maxlength=50>\r\n",
      "\t\t\t</td>\r\n",
      "\t\t</tr>\r\n",
      " \t\t<tr>\r\n",
      "\t\t\t<td class=\"td1bg1\">\r\n",
      "\t\t\t\t<label><input TYPE=\"radio\" VALUE=\"4\" NAME=\"basic_select\">廠商代表人姓名：</label>\r\n",
      "\t\t\t</td>\r\n",
      "\t\t\t<td class=\"td2bg1\">\r\n",
      "\t\t\t\t<input SIZE=\"10\" class=\"arWebIME\" id=\"owner\" NAME=\"owner\" ONFOCUS=\"basic_form.basic_select[3].checked=true\">\r\n",
      "\t\t\t\t\t(請至少鍵入二碼中文姓名)\r\n",
      "\t\t\t</td>\r\n",
      "\t\t</tr>\r\n",
      " \t\t<tr>\r\n",
      "\t\t\t<td class=\"td1bg1\">\r\n",
      "\t\t\t\t<label><input TYPE=\"radio\" VALUE=\"5\" NAME=\"basic_select\">出進口貨品： </label>\r\n",
      "\t\t\t</td>\r\n",
      "\t\t\t<td class=\"td2bg1\">\r\n",
      "\t\t\t\t\t<input SIZE=\"10\" NAME=\"product\" ONFOCUS=\"basic_form.basic_select[4].checked=true\">\r\n",
      "\t\t\t\t\t<select ONFOCUS=\"basic_form.basic_select[4].checked=true\" name=\"ccc_select\"> \r\n",
      "\t\t\t\t\t\t<option selected value=\"1\">進口</option>\r\n",
      "\t\t\t\t\t\t<option value=\"2\">出口</option>\r\n",
      "\t\t\t\t\t</select>\r\n",
      "\t\t\t\t\t<select ONFOCUS=\"basic_form.basic_select[4].checked=true\" name=\"ccc_num\"> \r\n",
      "\t\t\t\t\t\t<option selected value=\"8\">8碼</option>\r\n",
      "\t\t\t\t\t\t<option value=\"4\">4碼</option>\r\n",
      "\t\t\t\t\t</select>\r\n",
      "\t\t\t\t\t\r\n",
      "\t\t\t\t\t(請鍵入ＣＣＣcode 前4碼或前8碼) \r\n",
      "\t\t\t</td>\r\n",
      "\t\t</tr>\r\n",
      " \t\t<tr>\r\n",
      "\t\t\t<td class=\"td1bg1\">\r\n",
      "\t\t\t\t<label><input TYPE=\"radio\" VALUE=\"6\" NAME=\"basic_select\">出進口貨品名稱： </label>\r\n",
      "\t\t\t</td>\r\n",
      "\t\t\t<td class=\"td2bg1\">\r\n",
      "\t\t\t\t<input SIZE=\"10\" class=\"arWebIME\" id=\"product_name\" NAME=\"product_name\" ONFOCUS=\"basic_form.basic_select[5].checked=true\">\r\n",
      "\t\t\t\t<select ONFOCUS=\"basic_form.basic_select[5].checked=true\" name=\"pname_select\">\r\n",
      "\t\t\t\t\t<option selected value=\"1\">進口</option>\r\n",
      "\t\t\t\t\t<option value=\"2\">出口</option>\r\n",
      "\t\t\t\t</select>\r\n",
      "\t\t\t</td>\r\n",
      "\t\t</tr>\r\n",
      "\t\t<tr>\r\n",
      "\t\t\t<td class=\"td1bg1\">圖片驗證碼： </td>\r\n",
      "\t\t\t<td class=\"td2bg1\">\r\n",
      "\t\t\t\t<input SIZE=\"10\" NAME=\"txtCheckCode\" maxlength=6>\r\n",
      "\t\t\t\t<img src=\"../../common/code_98/CheckImageCode.aspx\" id=\"valid\"  alt=\"\" />\r\n",
      "\t\t\t\t<input type=\"button\" name=\"btnReGenCode\" value=\"重產圖片驗證碼\" onClick=\"valid.src='../../common/code_98/CheckImageCode.aspx?rf=' + (new Date()).getTime()\" />\r\n",
      "\t\t\t\t<div style=\"color:#FF0000;font-size:10pt;\">\r\n",
      "\t\t\t\t為預防不肖駭客以程式攻擊本系統或蓄意進行大量資料之查詢，並保障您的權益，請依圖示內容輸入驗證碼。\r\n",
      "\t\t\t\t</div>\r\n",
      "\t\t\t</td>\r\n",
      "\t\t</tr>\r\n",
      "\t\t<tr class=\"tr1bg1\" style=\"line-height: 50px;\">\r\n",
      "\t\t\t<td colspan=\"2\"  style=\"text-align:center;\">\r\n",
      "\t\t\t\t<input type=\"button\" name=\"query\" value=\"查    詢\" onclick=\"merchant_dispatch(basic_form)\">\r\n",
      "\t\t\t\t &nbsp;&nbsp; \r\n",
      "\t\t\t\t <input type=\"reset\" name=\"reset\" value=\"重新鍵入\">\r\n",
      "\t\t\t</td>\r\n",
      "\t\t</tr>\r\n",
      "\t</table>\r\n",
      "\t<table>\r\n",
      "\t\t<tr>\r\n",
      "\t\t\t<td style=\"color:#FF0000;\">備註:</td>\r\n",
      "\t\t</tr>\r\n",
      "\t\t<tr>\r\n",
      "\t\t\t<td style=\"color:#FF0000;\">1.網站公開之依據：出進口廠商登記辦法第7條之1。</td>\r\n",
      "\t\t</tr>\r\n",
      "\t\t<tr>\r\n",
      "\t\t\t<td style=\"color:#FF0000;\">2.廠商可向經濟部國際貿易局申請不公開以出進口貨品CCC Code前8碼查詢出進口廠商登記基<br>本資料，以維護廠商權益。</td>\r\n",
      "\t\t</tr>\r\n",
      "\t</table>\r\n",
      "</form>\r\n",
      "</body>\r\n",
      "</html>\n"
     ]
    },
    {
     "name": "stderr",
     "output_type": "stream",
     "text": [
      "c:\\users\\terrencechen\\appdata\\local\\programs\\python\\python36-32\\lib\\site-packages\\urllib3\\connectionpool.py:858: InsecureRequestWarning: Unverified HTTPS request is being made. Adding certificate verification is strongly advised. See: https://urllib3.readthedocs.io/en/latest/advanced-usage.html#ssl-warnings\n",
      "  InsecureRequestWarning)\n"
     ]
    }
   ],
   "source": [
    "import requests\n",
    "\n",
    "http_proxy  = \"http://proxy.tatw.micron.com:8080/\"\n",
    "https_proxy = \"http://proxy.tatw.micron.com:8080/\"\n",
    "proxyDict = { \n",
    "    \"http\":http_proxy, \n",
    "    \"https\":https_proxy              \n",
    "}\n",
    "payload = {\n",
    "    'queryType':'C',\n",
    "    'uni_number':'',\n",
    "    'basic_select':'2',\n",
    "    'chinese_name':'台北',\n",
    "    'english_name':'',\n",
    "    'owner':'',\n",
    "    'product':'',\n",
    "    'ccc_select':'1',\n",
    "    'ccc_num':'8',\n",
    "    'product_name':'',\n",
    "    'pname_select':'1',\n",
    "    'txtCheckCode':'wcpdna'\n",
    "}\n",
    "res = rs.post('https://fbfh.trade.gov.tw/rich/text/fbj/asp/fbje140L.asp', data = payload, verify=False, proxies=proxyDict)\n",
    "res.encoding = 'utf-8'\n",
    "print(res.text)"
   ]
  },
  {
   "cell_type": "code",
   "execution_count": null,
   "metadata": {},
   "outputs": [],
   "source": []
  }
 ],
 "metadata": {
  "kernelspec": {
   "display_name": "Python 3",
   "language": "python",
   "name": "python3"
  },
  "language_info": {
   "codemirror_mode": {
    "name": "ipython",
    "version": 3
   },
   "file_extension": ".py",
   "mimetype": "text/x-python",
   "name": "python",
   "nbconvert_exporter": "python",
   "pygments_lexer": "ipython3",
   "version": "3.6.4"
  }
 },
 "nbformat": 4,
 "nbformat_minor": 2
}
