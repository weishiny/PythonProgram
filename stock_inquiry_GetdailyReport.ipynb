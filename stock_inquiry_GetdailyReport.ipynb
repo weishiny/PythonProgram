{
 "cells": [
  {
   "cell_type": "code",
   "execution_count": 12,
   "metadata": {
    "collapsed": true
   },
   "outputs": [],
   "source": [
    "# Standard Method for static captcha url\n",
    "import requests\n",
    "import shutil\n",
    "\n",
    "http_proxy  = \"http://proxy.xxx.com:8080/\"\n",
    "https_proxy = \"http://proxy.xxx.com:8080/\"\n",
    "proxyDict = { \n",
    "    \"http\":http_proxy, \n",
    "    \"https\":https_proxy              \n",
    "}\n",
    "\n",
    "rs = requests.session()\n",
    "res = rs.get('http://bsr.twse.com.tw/bshtm/CaptchaImage.aspx?guid=a7f3e499-893a-4ff3-9618-1ae4e39020fb', stream=True, verify=False, proxies=proxyDict)\n",
    "\n",
    "f=open('dailyReportCAPTCHA.jpg', 'wb')\n",
    "shutil.copyfileobj(res.raw, f)\n",
    "f.close()\n",
    "\n",
    "import IPython.display\n",
    "IPython.display.Image('dailyReportCAPTCHA.jpg')"
   ]
  },
  {
   "cell_type": "code",
   "execution_count": 5,
   "metadata": {},
   "outputs": [
    {
     "name": "stdout",
     "output_type": "stream",
     "text": [
      "<div style=\"text-align:center;margin:5px;\"><img border=\"0\" height=\"60\" src=\"CaptchaImage.aspx?guid=8e2a5ece-0075-410f-b502-362adb58f41c\" width=\"200\"/></div>\n"
     ]
    },
    {
     "data": {
      "image/jpeg": "[encoded data removed]",
      "text/plain": [
       "<IPython.core.display.Image object>"
      ]
     },
     "execution_count": 5,
     "metadata": {},
     "output_type": "execute_result"
    }
   ],
   "source": [
    "# Solution for non-static captcha url\n",
    "# The image you're trying to download doesn't have a static url.\n",
    "# (http://bsr.twse.com.tw/bshtm/CaptchaImage.aspx?guid=a7f3e499-893a-4ff3-9618-1ae4e39020fb)\n",
    "# This means you can't use a static url for referencing the image\n",
    "# (res = rs.get('http://bsr.twse.com.tw/bshtm/CaptchaImage.aspx?guid=a7f3e499-893a-4ff3-9618-1ae4e39020fb') won't work).\n",
    "\n",
    "# Here's my solution using Requests and BeautifulSoup: (source: https://stackoverflow.com/questions/41754219/download-a-captcha-image-without-an-extension)\n",
    "# see HowtoGetdynamicCAPTCHAUrl01.png, HowtoGetdynamicCAPTCHAUrl02.png, HowtoGetdynamicCAPTCHAUrl03.png\n",
    "\n",
    "import requests\n",
    "from mimetypes import guess_extension\n",
    "from bs4 import BeautifulSoup\n",
    "\n",
    "#from urllib.parse import urljoin\n",
    "'''\n",
    "ImportError                               Traceback (most recent call last)\n",
    "<ipython-input-16-0ce9287f3757> in <module>()\n",
    "     10 from bs4 import BeautifulSoup\n",
    "     11 \n",
    "---> 12 from urllib.parse import urljoin\n",
    "     13 \n",
    "     14 \n",
    "\n",
    "ImportError: No module named parse\n",
    "'''\n",
    "# If you need to write code which is Python2 and Python3 compatible you can use the following import\n",
    "try:\n",
    "    from urllib.parse import urljoin\n",
    "except ImportError:\n",
    "     from urlparse import urljoin\n",
    "\n",
    "http_proxy  = \"http://proxy.xxx.com:8080/\"\n",
    "https_proxy = \"http://proxy.xxx.com:8080/\"\n",
    "proxyDict = { \n",
    "    \"http\":http_proxy, \n",
    "    \"https\":https_proxy              \n",
    "}\n",
    "\n",
    "s = requests.session()\n",
    "r = s.get('http://bsr.twse.com.tw/bshtm/', stream=True, verify=False, proxies=proxyDict)\n",
    "#print(r.content)\n",
    "'''\n",
    "<!DOCTYPE html PUBLIC \"-//W3C//DTD XHTML 1.0 Transitional//EN\" \"http://www.w3.org/TR/xhtml1/DTD/xhtml1-transitional.dtd\">\n",
    "<html xmlns=\"http://www.w3.org/1999/xhtml\">\n",
    "<head>\n",
    "    <title>TAIWAN STOCK EXCHANGE.買賣日報表查詢系統</title>\n",
    "\n",
    "    <style type=\"text/css\">\n",
    "        body {\n",
    "            margin: 0;\n",
    "            padding: 0;\n",
    "            border: 0;\n",
    "            overflow: hidden;\n",
    "            height: 100%;\n",
    "            max-height: 100%;\n",
    "        }\n",
    "    </style>\n",
    "</head>\n",
    "<frameset cols=\"300,*\" border=\"0\">\n",
    "   <frame id=\"page1\" name=\"page1\" src=\"bsMenu.aspx\">\n",
    "   <frame id=\"page2\" name=\"page2\" src=\"bsWelcome.aspx\">\n",
    "</frameset>\n",
    "</html>\n",
    "'''\n",
    "\n",
    "r = s.get('http://bsr.twse.com.tw/bshtm/bsMenu.aspx', stream=True, verify=False, proxies=proxyDict)\n",
    "#print(r.content) # this is what we want\n",
    "\n",
    "captchaImageName = ''\n",
    "if r.status_code == 200:            \n",
    "    soup = BeautifulSoup(r.content, \"html.parser\")\n",
    "    #div = soup.find(\"div\", attrs={\"class\": \"captcha\", \"style\": \"color:Red;width:100%;\"})\n",
    "    div = soup.find(\"div\", attrs={\"style\": \"text-align:center;margin:5px;\"})\n",
    "    \n",
    "    print(div)\n",
    "    '''\n",
    "    <div style=\"text-align:center;margin:5px;\">\n",
    "        <img border=\"0\" height=\"60\" src=\"CaptchaImage.aspx?guid=0d1a504b-aeef-4b62-982f-f6b0bdcd0df3\" width=\"200\"/>\n",
    "    </div>\n",
    "    '''\n",
    "        \n",
    "    r = s.get(urljoin(\"http://bsr.twse.com.tw/bshtm/\", div.img[\"src\"]), stream=True, verify=False, proxies=proxyDict)\n",
    "    if r.status_code == 200:\n",
    "        guess = guess_extension(r.headers['content-type'])\n",
    "        if guess:\n",
    "            #with open(\"DynamicCaptcha\" + guess, \"wb\") as f:\n",
    "            with open(\"DynamicCaptcha\" + \".jpg\", \"wb\") as f:\n",
    "                f.write(r.content)\n",
    "                #captchaImageName = \"DynamicCaptcha\" + guess\n",
    "                captchaImageName = \"DynamicCaptcha\" + \".jpg\"\n",
    "            # Image.open(BytesIO(r.content)).show()\n",
    "\n",
    "import IPython.display\n",
    "IPython.display.Image(captchaImageName)"
   ]
  },
  {
   "cell_type": "code",
   "execution_count": 6,
   "metadata": {},
   "outputs": [
    {
     "name": "stdout",
     "output_type": "stream",
     "text": [
      "\n"
     ]
    }
   ],
   "source": [
    "import requests\n",
    "payload = {\n",
    "    '__VIEWSTATE': '/wEPDwUJOTAxMjkxMjg3D2QWAgIDD2QWBAIBD2QWAmYPZBYEZg9kFgJmDxAPFgYeB0NoZWNrZWRnHglGb3JlQ29sb3IKAB4EXyFTQgIEZGRkZAIBD2QWAgIBDw8WBB8BCgAfAgIEZGQCAw9kFgQCAw8PFgIeBFRleHRlZGQCCQ8PFgYeC05hdmlnYXRlVXJsBRB+L2JzQ29udGVudC5hc3B4HwMFD+S4i+i8iSA1NDM0IENTVh4HVmlzaWJsZWdkZBgCBR5fX0NvbnRyb2xzUmVxdWlyZVBvc3RCYWNrS2V5X18WAwUSUmFkaW9CdXR0b25fTm9ybWFsBRBSYWRpb0J1dHRvbl9FeGNkBRBSYWRpb0J1dHRvbl9FeGNkBQ9DYXB0Y2hhQ29udHJvbDEPBSQzYzJkYzZiNi05ODgyLTRjZmMtODk1Ni0wYzkyNTc3NzQ0YWRkDKBfdKUf9NPnTbbxijlfbg==',\n",
    "    '__VIEWSTATEGENERATOR': 'AA1F01CB',\n",
    "    '__EVENTVALIDATION': '/wEdAAY+1/fUT0D4eDDq8wPhy/n7fMmuxAJNAJcNkRRsVeJwwqKURZav/+YrVMqaWE2hvMxJwK4Ohf3nRgXHkFhQen1PRSciNdPYWmINCrip1wqw01PJCA0uL9aE2sjICZqv6GpbLa5fJ7IK5PNDHfzLIezF',\n",
    "    'RadioButton_Normal': 'RadioButton_Normal',\n",
    "    'TextBox_Stkno': '2493',\n",
    "    'CaptchaControl1': 'ETCE6',\n",
    "    'btnOK': '查詢',\n",
    "}\n",
    "\n",
    "resMenu = s.post('http://bsr.twse.com.tw/bshtm/bsMenu.aspx', data=payload, stream=True, verify=False, proxies=proxyDict)\n",
    "#print(resMenu.text)\n",
    "resContent = s.get('http://bsr.twse.com.tw/bshtm/bsContent.aspx?v=t', stream=True, verify=False, proxies=proxyDict)\n",
    "print(resContent.text)"
   ]
  },
  {
   "cell_type": "code",
   "execution_count": null,
   "metadata": {
    "collapsed": true
   },
   "outputs": [],
   "source": []
  }
 ],
 "metadata": {
  "kernelspec": {
   "display_name": "Python 2",
   "language": "python",
   "name": "python2"
  },
  "language_info": {
   "codemirror_mode": {
    "name": "ipython",
    "version": 2
   },
   "file_extension": ".py",
   "mimetype": "text/x-python",
   "name": "python",
   "nbconvert_exporter": "python",
   "pygments_lexer": "ipython2",
   "version": "2.7.14"
  }
 },
 "nbformat": 4,
 "nbformat_minor": 2
}
